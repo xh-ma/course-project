{
 "cells": [
  {
   "cell_type": "markdown",
   "id": "3895ac7b",
   "metadata": {},
   "source": [
    "Analysis: The Impact of Close Friendships on Loneliness"
   ]
  },
  {
   "cell_type": "markdown",
   "id": "3c5367fe",
   "metadata": {},
   "source": [
    "Research Question:\n",
    "What is the relationship between the number of close friends and feelings of loneliness?"
   ]
  },
  {
   "cell_type": "code",
   "execution_count": 3,
   "id": "2b24adaa",
   "metadata": {},
   "outputs": [
    {
     "data": {
      "text/html": [
       "<div>\n",
       "<style scoped>\n",
       "    .dataframe tbody tr th:only-of-type {\n",
       "        vertical-align: middle;\n",
       "    }\n",
       "\n",
       "    .dataframe tbody tr th {\n",
       "        vertical-align: top;\n",
       "    }\n",
       "\n",
       "    .dataframe thead th {\n",
       "        text-align: right;\n",
       "    }\n",
       "</style>\n",
       "<table border=\"1\" class=\"dataframe\">\n",
       "  <thead>\n",
       "    <tr style=\"text-align: right;\">\n",
       "      <th></th>\n",
       "      <th>LONELY_ucla_loneliness_scale_score</th>\n",
       "      <th>CONNECTION_social_num_close_friends_grouped</th>\n",
       "    </tr>\n",
       "  </thead>\n",
       "  <tbody>\n",
       "    <tr>\n",
       "      <th>4</th>\n",
       "      <td>4.0</td>\n",
       "      <td>5 or more</td>\n",
       "    </tr>\n",
       "    <tr>\n",
       "      <th>8</th>\n",
       "      <td>9.0</td>\n",
       "      <td>3–4</td>\n",
       "    </tr>\n",
       "    <tr>\n",
       "      <th>10</th>\n",
       "      <td>5.0</td>\n",
       "      <td>5 or more</td>\n",
       "    </tr>\n",
       "    <tr>\n",
       "      <th>13</th>\n",
       "      <td>6.0</td>\n",
       "      <td>3–4</td>\n",
       "    </tr>\n",
       "    <tr>\n",
       "      <th>18</th>\n",
       "      <td>6.0</td>\n",
       "      <td>3–4</td>\n",
       "    </tr>\n",
       "  </tbody>\n",
       "</table>\n",
       "</div>"
      ],
      "text/plain": [
       "    LONELY_ucla_loneliness_scale_score  \\\n",
       "4                                  4.0   \n",
       "8                                  9.0   \n",
       "10                                 5.0   \n",
       "13                                 6.0   \n",
       "18                                 6.0   \n",
       "\n",
       "   CONNECTION_social_num_close_friends_grouped  \n",
       "4                                    5 or more  \n",
       "8                                          3–4  \n",
       "10                                   5 or more  \n",
       "13                                         3–4  \n",
       "18                                         3–4  "
      ]
     },
     "execution_count": 3,
     "metadata": {},
     "output_type": "execute_result"
    }
   ],
   "source": [
    "import pandas as pd\n",
    "\n",
    "# Load a CSV file\n",
    "df = pd.read_csv('CSCS_data_anon.csv', low_memory=False)\n",
    "\n",
    "# Select the required columns\n",
    "filtered_df = df[['LONELY_ucla_loneliness_scale_score', 'CONNECTION_social_num_close_friends_grouped']]\n",
    "\n",
    "# Remove rows with NA values in the selected columns\n",
    "filtered_df = filtered_df.dropna(subset=['LONELY_ucla_loneliness_scale_score', 'CONNECTION_social_num_close_friends_grouped'])\n",
    "\n",
    "# Display the first few rows to confirm\n",
    "filtered_df.head()\n"
   ]
  },
  {
   "cell_type": "code",
   "execution_count": 4,
   "id": "5542c70a",
   "metadata": {},
   "outputs": [
    {
     "name": "stdout",
     "output_type": "stream",
     "text": [
      "float64\n"
     ]
    },
    {
     "data": {
      "text/plain": [
       "count    3671.000000\n",
       "mean        5.527377\n",
       "std         1.751371\n",
       "min         3.000000\n",
       "25%         4.000000\n",
       "50%         5.000000\n",
       "75%         7.000000\n",
       "max         9.000000\n",
       "Name: LONELY_ucla_loneliness_scale_score, dtype: float64"
      ]
     },
     "execution_count": 4,
     "metadata": {},
     "output_type": "execute_result"
    }
   ],
   "source": [
    "# Check the data type\n",
    "print(filtered_df['LONELY_ucla_loneliness_scale_score'].dtype)\n",
    "\n",
    "# Display basic statistics\n",
    "filtered_df['LONELY_ucla_loneliness_scale_score'].describe()\n"
   ]
  },
  {
   "cell_type": "code",
   "execution_count": 5,
   "id": "8cda4815",
   "metadata": {},
   "outputs": [
    {
     "data": {
      "text/plain": [
       "array(['5 or more', '3–4', '1–2', 'Presented but no response'],\n",
       "      dtype=object)"
      ]
     },
     "execution_count": 5,
     "metadata": {},
     "output_type": "execute_result"
    }
   ],
   "source": [
    "# Check unique values for CONNECTION_social_num_close_friends_grouped\n",
    "filtered_df['CONNECTION_social_num_close_friends_grouped'].unique()\n"
   ]
  },
  {
   "cell_type": "code",
   "execution_count": 6,
   "id": "3fc7a2ca",
   "metadata": {},
   "outputs": [
    {
     "data": {
      "text/html": [
       "<div>\n",
       "<style scoped>\n",
       "    .dataframe tbody tr th:only-of-type {\n",
       "        vertical-align: middle;\n",
       "    }\n",
       "\n",
       "    .dataframe tbody tr th {\n",
       "        vertical-align: top;\n",
       "    }\n",
       "\n",
       "    .dataframe thead th {\n",
       "        text-align: right;\n",
       "    }\n",
       "</style>\n",
       "<table border=\"1\" class=\"dataframe\">\n",
       "  <thead>\n",
       "    <tr style=\"text-align: right;\">\n",
       "      <th></th>\n",
       "      <th>LONELY_ucla_loneliness_scale_score</th>\n",
       "      <th>CONNECTION_social_num_close_friends_grouped</th>\n",
       "    </tr>\n",
       "  </thead>\n",
       "  <tbody>\n",
       "    <tr>\n",
       "      <th>4</th>\n",
       "      <td>4.0</td>\n",
       "      <td>3</td>\n",
       "    </tr>\n",
       "    <tr>\n",
       "      <th>8</th>\n",
       "      <td>9.0</td>\n",
       "      <td>2</td>\n",
       "    </tr>\n",
       "    <tr>\n",
       "      <th>10</th>\n",
       "      <td>5.0</td>\n",
       "      <td>3</td>\n",
       "    </tr>\n",
       "    <tr>\n",
       "      <th>13</th>\n",
       "      <td>6.0</td>\n",
       "      <td>2</td>\n",
       "    </tr>\n",
       "    <tr>\n",
       "      <th>18</th>\n",
       "      <td>6.0</td>\n",
       "      <td>2</td>\n",
       "    </tr>\n",
       "  </tbody>\n",
       "</table>\n",
       "</div>"
      ],
      "text/plain": [
       "    LONELY_ucla_loneliness_scale_score  \\\n",
       "4                                  4.0   \n",
       "8                                  9.0   \n",
       "10                                 5.0   \n",
       "13                                 6.0   \n",
       "18                                 6.0   \n",
       "\n",
       "    CONNECTION_social_num_close_friends_grouped  \n",
       "4                                             3  \n",
       "8                                             2  \n",
       "10                                            3  \n",
       "13                                            2  \n",
       "18                                            2  "
      ]
     },
     "execution_count": 6,
     "metadata": {},
     "output_type": "execute_result"
    }
   ],
   "source": [
    "# Filter out 'Presented but no response'\n",
    "filtered_df = filtered_df[filtered_df['CONNECTION_social_num_close_friends_grouped'] != 'Presented but no response']\n",
    "# Map categories to numerical values\n",
    "friends_mapping = {'1–2': 1, '3–4': 2, '5 or more': 3}\n",
    "filtered_df['CONNECTION_social_num_close_friends_grouped'] = filtered_df['CONNECTION_social_num_close_friends_grouped'].map(friends_mapping)\n",
    "filtered_df.head()\n"
   ]
  },
  {
   "cell_type": "markdown",
   "id": "97046d3e",
   "metadata": {},
   "source": [
    "Method:\n",
    "Hypothesis Testing\n",
    "\n",
    "Null Hypothesis (H0):\n",
    "There is no significant difference in loneliness scores across the groups with different numbers of close friends (1–2, 3–4, and 5 or more).\n",
    "Alternative Hypothesis (H1): \n",
    "A higher number of close friends is associated with lower loneliness scores."
   ]
  },
  {
   "cell_type": "markdown",
   "id": "b20374c8",
   "metadata": {},
   "source": [
    "Visualization:\n",
    "The histogram with an overlaying density plot provides a clear visual representation of the relationship between the number of close friends and loneliness scores. The density curves for individuals with 5 or more close friends peak at lower loneliness scores, while those with fewer close friends have higher and more variable loneliness scores."
   ]
  },
  {
   "cell_type": "code",
   "execution_count": 7,
   "id": "2beed680",
   "metadata": {
    "scrolled": true
   },
   "outputs": [
    {
     "data": {
      "image/png": "[encoded data removed]",
      "text/plain": [
       "<Figure size 1000x600 with 1 Axes>"
      ]
     },
     "metadata": {},
     "output_type": "display_data"
    }
   ],
   "source": [
    "import seaborn as sns\n",
    "import matplotlib.pyplot as plt\n",
    "\n",
    "# Histogram with density plot overlay\n",
    "plt.figure(figsize=(10, 6))\n",
    "sns.histplot(\n",
    "    data=filtered_df,\n",
    "    x='LONELY_ucla_loneliness_scale_score',\n",
    "    hue='CONNECTION_social_num_close_friends_grouped',\n",
    "    kde=True,  # Adds the density plot\n",
    "    bins=15,   # Adjust the number of bins as needed\n",
    "    palette='Set2',  # Color palette for clarity\n",
    "    alpha=0.6,  # Transparency for overlapping bars\n",
    ")\n",
    "\n",
    "# Add labels and title\n",
    "plt.xlabel('Loneliness Score')\n",
    "plt.ylabel('Frequency')\n",
    "plt.title('Distribution of Loneliness Scores by Number of Close Friends')\n",
    "plt.legend(title='Number of Close Friends', labels=['1–2', '3–4', '5 or more'])\n",
    "plt.show()\n"
   ]
  },
  {
   "cell_type": "markdown",
   "id": "de01071f",
   "metadata": {},
   "source": [
    "Observations from the Chart:\n",
    "\n",
    "Density Curves:\n",
    "Individuals with more close friends (\"5 or more\") generally have lower loneliness scores, as their density curve peaks at lower values.\n",
    "Those with fewer close friends (\"1–2\") have a flatter curve, suggesting higher variability in loneliness scores.\n",
    "\n",
    "Histogram Bars:\n",
    "The groups differ in their relative frequencies, with \"5 or more\" friends dominating at lower loneliness scores (3–5)."
   ]
  },
  {
   "cell_type": "markdown",
   "id": "5b818c69",
   "metadata": {},
   "source": [
    "1. Compare 1–2 close friends vs. 3–4 close friends"
   ]
  },
  {
   "cell_type": "code",
   "execution_count": 8,
   "id": "498a92b4",
   "metadata": {},
   "outputs": [
    {
     "name": "stdout",
     "output_type": "stream",
     "text": [
      "T-statistic: 3.99\n",
      "P-value: 0.0001\n",
      "Significant difference in loneliness scores between 1–2 and 3–4 close friends.\n"
     ]
    }
   ],
   "source": [
    "from scipy.stats import ttest_ind\n",
    "\n",
    "# Group the data\n",
    "group_1_2 = filtered_df[filtered_df['CONNECTION_social_num_close_friends_grouped'] == 1]['LONELY_ucla_loneliness_scale_score']\n",
    "group_3_4 = filtered_df[filtered_df['CONNECTION_social_num_close_friends_grouped'] == 2]['LONELY_ucla_loneliness_scale_score']\n",
    "\n",
    "# Perform two-sample t-test\n",
    "t_stat, p_value = ttest_ind(group_1_2, group_3_4)\n",
    "\n",
    "# Print results\n",
    "print(f\"T-statistic: {t_stat:.2f}\")\n",
    "print(f\"P-value: {p_value:.4f}\")\n",
    "\n",
    "# Interpretation\n",
    "if p_value < 0.05:\n",
    "    print(\"Significant difference in loneliness scores between 1–2 and 3–4 close friends.\")\n",
    "else:\n",
    "    print(\"No significant difference in loneliness scores between 1–2 and 3–4 close friends.\")\n"
   ]
  },
  {
   "cell_type": "markdown",
   "id": "f8e397c1",
   "metadata": {},
   "source": [
    "2. Compare 1–2 close friends vs. 5 or more close friends"
   ]
  },
  {
   "cell_type": "code",
   "execution_count": 9,
   "id": "cb6088c2",
   "metadata": {},
   "outputs": [
    {
     "name": "stdout",
     "output_type": "stream",
     "text": [
      "T-statistic: 10.40\n",
      "P-value: 0.0000\n",
      "Significant difference in loneliness scores between 1–2 and 5 or more close friends.\n"
     ]
    }
   ],
   "source": [
    "# Group the data\n",
    "group_5_more = filtered_df[filtered_df['CONNECTION_social_num_close_friends_grouped'] == 3]['LONELY_ucla_loneliness_scale_score']\n",
    "\n",
    "# Perform two-sample t-test\n",
    "t_stat, p_value = ttest_ind(group_1_2, group_5_more)\n",
    "\n",
    "# Print results\n",
    "print(f\"T-statistic: {t_stat:.2f}\")\n",
    "print(f\"P-value: {p_value:.4f}\")\n",
    "\n",
    "# Interpretation\n",
    "if p_value < 0.05:\n",
    "    print(\"Significant difference in loneliness scores between 1–2 and 5 or more close friends.\")\n",
    "else:\n",
    "    print(\"No significant difference in loneliness scores between 1–2 and 5 or more close friends.\")\n"
   ]
  },
  {
   "cell_type": "markdown",
   "id": "191f1342",
   "metadata": {},
   "source": [
    "3. Compare 3–4 close friends vs. 5 or more close friends"
   ]
  },
  {
   "cell_type": "code",
   "execution_count": 10,
   "id": "2062979f",
   "metadata": {
    "scrolled": true
   },
   "outputs": [
    {
     "name": "stdout",
     "output_type": "stream",
     "text": [
      "T-statistic: 6.92\n",
      "P-value: 0.0000\n",
      "Significant difference in loneliness scores between 3–4 and 5 or more close friends.\n"
     ]
    }
   ],
   "source": [
    "# Perform two-sample t-test\n",
    "t_stat, p_value = ttest_ind(group_3_4, group_5_more)\n",
    "\n",
    "# Print results\n",
    "print(f\"T-statistic: {t_stat:.2f}\")\n",
    "print(f\"P-value: {p_value:.4f}\")\n",
    "\n",
    "# Interpretation\n",
    "if p_value < 0.05:\n",
    "    print(\"Significant difference in loneliness scores between 3–4 and 5 or more close friends.\")\n",
    "else:\n",
    "    print(\"No significant difference in loneliness scores between 3–4 and 5 or more close friends.\")\n"
   ]
  },
  {
   "cell_type": "markdown",
   "id": "cf577d18",
   "metadata": {},
   "source": [
    "Hypothesis Testing Results:\n",
    "1–2 vs. 3–4 close friends: Significant difference in loneliness scores (T-statistic: 3.99, P-value: 0.0001).\n",
    "1–2 vs. 5 or more close friends: Significant difference in loneliness scores (T-statistic: 10.40, P-value: 0.0000).\n",
    "3–4 vs. 5 or more close friends: Significant difference in loneliness scores (T-statistic: 6.92, P-value: 0.0000)."
   ]
  },
  {
   "cell_type": "markdown",
   "id": "6b56d2f5",
   "metadata": {},
   "source": [
    "Conclusion:\n",
    "The results show that individuals with more close friends report lower loneliness scores. There are significant differences in loneliness between all the groups (1–2, 3–4, and 5 or more close friends), supporting the idea that having more close friends is associated with less loneliness."
   ]
  },
  {
   "cell_type": "markdown",
   "id": "7bd2dd02",
   "metadata": {},
   "source": [
    "Limitations and Further Considerations:\n",
    "Multiple Comparisons: Using multiple t-tests increases the risk of Type I error. A Bonferroni correction would be advisable.\n",
    "Sample Bias: The analysis assumes that the sample is representative, but if there are biases (e.g., age, health), the results may not generalize.\n",
    "Causal Inference: The cross-sectional nature of the data limits the ability to draw causal conclusions."
   ]
  }
 ],
 "metadata": {
  "kernelspec": {
   "display_name": "Python 3 (ipykernel)",
   "language": "python",
   "name": "python3"
  },
  "language_info": {
   "codemirror_mode": {
    "name": "ipython",
    "version": 3
   },
   "file_extension": ".py",
   "mimetype": "text/x-python",
   "name": "python",
   "nbconvert_exporter": "python",
   "pygments_lexer": "ipython3",
   "version": "3.11.6"
  }
 },
 "nbformat": 4,
 "nbformat_minor": 5
}
